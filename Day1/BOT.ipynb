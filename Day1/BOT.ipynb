{
  "nbformat": 4,
  "nbformat_minor": 0,
  "metadata": {
    "colab": {
      "name": "BOT.ipynb",
      "provenance": []
    },
    "kernelspec": {
      "name": "python3",
      "display_name": "Python 3"
    }
  },
  "cells": [
    {
      "cell_type": "markdown",
      "metadata": {
        "id": "XG_KnwN5mFH8",
        "colab_type": "text"
      },
      "source": [
        "# Abstraction: \n",
        "    - Tìm các dãy con liên tiếp trong dãy n phần tử.\n",
        "# Pattern Recognition: \n",
        "    - Quy hoạch động.\n",
        "# Algorithm designed: \n",
        "    * Input:\n",
        "        - n là số nguyên, 1 <= n <= 10^6. \n",
        "        - a là mảng gồm n phần tử, bắt đầu từ a[0], a[1],...,a[n]. \n",
        "        - i là số nguyên, 0 <= |a[i]| <= 10^9, i = 1 / n. \n",
        "    * Output: chỉ số đầu của mảng con, chỉ số cuối của mảng con, tổng các phần tử mảng con \n",
        "    * Mã giả: \n",
        "      tạo hàm “maxsubarray”\n",
        "      begin = end =0\n",
        "      currStart = 0\n",
        "      currEnd = 0\n",
        "      temp = 0\n",
        "\tLặp i từ 0 đến i - 1\n",
        "      1. currEnd = currEnd + a[i]\n",
        "      2. if (currEnd > currStart)\n",
        "             2.1 currStart = currEnd\n",
        "             2.2 end = i\n",
        "             2.3 begin = temp\n",
        "      3. if(currEnd < 0)\n",
        "            3.1 currEnd = 0\n",
        "            3.2 temp = i + 1\n",
        "        Print:\n",
        "            Chỉ số bắt đầu của mảng con: begin + 1\n",
        "            Chỉ số kết thúc của mảng con: end + 1\n",
        "            Tổng các phần tử trong mảng con: currStart\n",
        "    *Độ phức tạp thời gian: T = O(n)"
      ]
    },
    {
      "cell_type": "code",
      "metadata": {
        "id": "u_1JyTlJ4t9f",
        "colab_type": "code",
        "colab": {
          "base_uri": "https://localhost:8080/",
          "height": 70
        },
        "outputId": "c477060c-1239-4864-916a-b3686bc72a76"
      },
      "source": [
        "\n",
        "\n",
        "\n",
        "\n",
        "def maxSubArray(arr, size):\n",
        "    currEnd = arr[0]\n",
        "    currStart = float('-inf')\n",
        "    start = end = 0 \n",
        "    temp = 0\n",
        "\n",
        "    for i in range(1,size):\n",
        "        currEnd += arr[i]\n",
        "        \n",
        "        if currEnd > currStart:\n",
        "            currStart = currEnd\n",
        "            end = i\n",
        "            start = temp\n",
        "        \n",
        "        elif currEnd < 0:\n",
        "            currEnd = 0\n",
        "            temp = i + 1\n",
        "    \n",
        "    print(start + 1, end + 1, currStart)\n",
        "\n",
        "n = int(input())\n",
        "arr = list(map(int, input().split()))\n",
        "maxSubArray(arr,len(arr))\n",
        "\n",
        "# numbers = [2,-4,5,-8,4,-1,-1,1,1,1,-2,2,4,-6,9,-4]"
      ],
      "execution_count": null,
      "outputs": [
        {
          "output_type": "stream",
          "text": [
            "16\n",
            "2 -4 5 -8 4 -1 -1 1 1 1 -2 2 4 -6 9 -4\n",
            "5 15 12\n"
          ],
          "name": "stdout"
        }
      ]
    }
  ]
}
